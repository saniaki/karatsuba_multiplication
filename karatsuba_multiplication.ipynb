{
 "cells": [
  {
   "cell_type": "code",
   "execution_count": 1,
   "metadata": {},
   "outputs": [],
   "source": [
    "def Karatsuba_Multiplication(x,y):\n",
    "    \"\"\"This is a recursive function\n",
    "    to find the multiplication of two numbers\n",
    "    using Karatsuba multiplication algorithm\"\"\" \n",
    "    \n",
    "    if x <= 10  or y<=10:\n",
    "        multiplication = x * y\n",
    "        return multiplication\n",
    "    else:\n",
    "        n = len(str(x)) # number of digits in x\n",
    "        \n",
    "        a = x // (10 ** int(n/2))\n",
    "        b = x % (10 ** int(n/2))\n",
    "        c = y // (10 ** int(n/2))\n",
    "        d = y % (10 ** int(n/2))\n",
    "        \n",
    "        s1 = Karatsuba_Multiplication(a,c)\n",
    "        s2 = Karatsuba_Multiplication(b,d)\n",
    "        s3 = Karatsuba_Multiplication(a+b,c+d) - s1 - s2 \n",
    "\n",
    "        multiplication = (10 ** int(n/2)) * (10 ** int(n/2)) * s1 + (10 ** int(n/2)) * s3 + s2\n",
    "        \n",
    "        return multiplication\n"
   ]
  },
  {
   "cell_type": "code",
   "execution_count": 2,
   "metadata": {},
   "outputs": [
    {
     "name": "stdout",
     "output_type": "stream",
     "text": [
      "results is equal to 8539734222673567065463550869546574495034888535765114961879601127067743044893204848617875072216249073013374895871952806582723184\n",
      "difference to simple multiplication is 0\n"
     ]
    }
   ],
   "source": [
    "# test\n",
    "x = 3141592653589793238462643383279502884197169399375105820974944592\n",
    "y = 2718281828459045235360287471352662497757247093699959574966967627\n",
    "k = Karatsuba_Multiplication(x,y)\n",
    "diff =  k - x*y # difference compare to python multiplication\n",
    "print('results is equal to {}'.format(k))\n",
    "print('difference to simple multiplication is {}'.format(diff))"
   ]
  },
  {
   "cell_type": "code",
   "execution_count": null,
   "metadata": {},
   "outputs": [],
   "source": []
  }
 ],
 "metadata": {
  "kernelspec": {
   "display_name": "Python 3",
   "language": "python",
   "name": "python3"
  },
  "language_info": {
   "codemirror_mode": {
    "name": "ipython",
    "version": 3
   },
   "file_extension": ".py",
   "mimetype": "text/x-python",
   "name": "python",
   "nbconvert_exporter": "python",
   "pygments_lexer": "ipython3",
   "version": "3.7.4"
  },
  "toc": {
   "base_numbering": 1,
   "nav_menu": {},
   "number_sections": true,
   "sideBar": true,
   "skip_h1_title": false,
   "title_cell": "Table of Contents",
   "title_sidebar": "Contents",
   "toc_cell": false,
   "toc_position": {},
   "toc_section_display": true,
   "toc_window_display": false
  }
 },
 "nbformat": 4,
 "nbformat_minor": 2
}
